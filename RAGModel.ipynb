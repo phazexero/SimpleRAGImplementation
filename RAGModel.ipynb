{
 "cells": [
  {
   "cell_type": "code",
   "execution_count": 1,
   "metadata": {},
   "outputs": [],
   "source": [
    "import random\n",
    "\n",
    "import torch\n",
    "import numpy as np \n",
    "import pandas as pd"
   ]
  },
  {
   "cell_type": "code",
   "execution_count": 2,
   "metadata": {},
   "outputs": [
    {
     "data": {
      "text/plain": [
       "torch.Size([468, 768])"
      ]
     },
     "execution_count": 2,
     "metadata": {},
     "output_type": "execute_result"
    }
   ],
   "source": [
    "device = \"cuda\" if torch.cuda.is_available() else \"cpu\"\n",
    "\n",
    "# Import texts and embedding df\n",
    "text_chunks_and_embedding_df = pd.read_csv(\"text_chunks_and_embeddings_df.csv\")\n",
    "\n",
    "# Convert embedding column back to np.array (it got converted to string when it got saved to CSV)\n",
    "text_chunks_and_embedding_df[\"embedding\"] = text_chunks_and_embedding_df[\"embedding\"].apply(lambda x: np.fromstring(x.strip(\"[]\"), sep=\" \"))\n",
    "\n",
    "# Convert texts and embedding df to list of dicts\n",
    "pages_and_chunks = text_chunks_and_embedding_df.to_dict(orient=\"records\")\n",
    "\n",
    "# Convert embeddings to torch tensor and send to device (note: NumPy arrays are float64, torch tensors are float32 by default)\n",
    "embeddings = torch.tensor(np.array(text_chunks_and_embedding_df[\"embedding\"].tolist()), dtype=torch.float32).to(device)\n",
    "embeddings.shape"
   ]
  },
  {
   "cell_type": "code",
   "execution_count": 3,
   "metadata": {},
   "outputs": [
    {
     "data": {
      "text/html": [
       "<div>\n",
       "<style scoped>\n",
       "    .dataframe tbody tr th:only-of-type {\n",
       "        vertical-align: middle;\n",
       "    }\n",
       "\n",
       "    .dataframe tbody tr th {\n",
       "        vertical-align: top;\n",
       "    }\n",
       "\n",
       "    .dataframe thead th {\n",
       "        text-align: right;\n",
       "    }\n",
       "</style>\n",
       "<table border=\"1\" class=\"dataframe\">\n",
       "  <thead>\n",
       "    <tr style=\"text-align: right;\">\n",
       "      <th></th>\n",
       "      <th>page_number</th>\n",
       "      <th>sentence_chunk</th>\n",
       "      <th>chunk_char_count</th>\n",
       "      <th>chunk_word_count</th>\n",
       "      <th>chunk_token_count</th>\n",
       "      <th>embedding</th>\n",
       "    </tr>\n",
       "  </thead>\n",
       "  <tbody>\n",
       "    <tr>\n",
       "      <th>0</th>\n",
       "      <td>-4</td>\n",
       "      <td>New BRS 5       Problem Statement for BRS 6   ...</td>\n",
       "      <td>274</td>\n",
       "      <td>99</td>\n",
       "      <td>68.50</td>\n",
       "      <td>[0.00293612643, -0.0340591148, -0.013654124, -...</td>\n",
       "    </tr>\n",
       "    <tr>\n",
       "      <th>1</th>\n",
       "      <td>-4</td>\n",
       "      <td>Reconciliation Statement: Summary 18         C...</td>\n",
       "      <td>1578</td>\n",
       "      <td>464</td>\n",
       "      <td>394.50</td>\n",
       "      <td>[0.0206729006, -0.000363658852, -0.0370985456,...</td>\n",
       "    </tr>\n",
       "    <tr>\n",
       "      <th>2</th>\n",
       "      <td>-3</td>\n",
       "      <td>Calculation of Gross Profit &amp; Net Profit 72   ...</td>\n",
       "      <td>987</td>\n",
       "      <td>359</td>\n",
       "      <td>246.75</td>\n",
       "      <td>[-0.0276358128, -0.0258415826, -0.0299574248, ...</td>\n",
       "    </tr>\n",
       "    <tr>\n",
       "      <th>3</th>\n",
       "      <td>-3</td>\n",
       "      <td>113              Vertical Layout of Balance Sh...</td>\n",
       "      <td>976</td>\n",
       "      <td>321</td>\n",
       "      <td>244.00</td>\n",
       "      <td>[-0.0239460301, -0.0523959063, -0.0236781035, ...</td>\n",
       "    </tr>\n",
       "    <tr>\n",
       "      <th>4</th>\n",
       "      <td>-2</td>\n",
       "      <td>Functionality- Screen &amp; Fields.152            ...</td>\n",
       "      <td>1272</td>\n",
       "      <td>503</td>\n",
       "      <td>318.00</td>\n",
       "      <td>[-0.0209647268, -0.0222982764, -0.0158743616, ...</td>\n",
       "    </tr>\n",
       "  </tbody>\n",
       "</table>\n",
       "</div>"
      ],
      "text/plain": [
       "   page_number                                     sentence_chunk  \\\n",
       "0           -4  New BRS 5       Problem Statement for BRS 6   ...   \n",
       "1           -4  Reconciliation Statement: Summary 18         C...   \n",
       "2           -3  Calculation of Gross Profit & Net Profit 72   ...   \n",
       "3           -3  113              Vertical Layout of Balance Sh...   \n",
       "4           -2  Functionality- Screen & Fields.152            ...   \n",
       "\n",
       "   chunk_char_count  chunk_word_count  chunk_token_count  \\\n",
       "0               274                99              68.50   \n",
       "1              1578               464             394.50   \n",
       "2               987               359             246.75   \n",
       "3               976               321             244.00   \n",
       "4              1272               503             318.00   \n",
       "\n",
       "                                           embedding  \n",
       "0  [0.00293612643, -0.0340591148, -0.013654124, -...  \n",
       "1  [0.0206729006, -0.000363658852, -0.0370985456,...  \n",
       "2  [-0.0276358128, -0.0258415826, -0.0299574248, ...  \n",
       "3  [-0.0239460301, -0.0523959063, -0.0236781035, ...  \n",
       "4  [-0.0209647268, -0.0222982764, -0.0158743616, ...  "
      ]
     },
     "execution_count": 3,
     "metadata": {},
     "output_type": "execute_result"
    }
   ],
   "source": [
    "text_chunks_and_embedding_df.head()"
   ]
  }
 ],
 "metadata": {
  "kernelspec": {
   "display_name": ".venv",
   "language": "python",
   "name": "python3"
  },
  "language_info": {
   "codemirror_mode": {
    "name": "ipython",
    "version": 3
   },
   "file_extension": ".py",
   "mimetype": "text/x-python",
   "name": "python",
   "nbconvert_exporter": "python",
   "pygments_lexer": "ipython3",
   "version": "3.12.1"
  }
 },
 "nbformat": 4,
 "nbformat_minor": 2
}
