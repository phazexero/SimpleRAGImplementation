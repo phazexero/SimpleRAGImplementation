{
 "cells": [
  {
   "cell_type": "code",
   "execution_count": 39,
   "metadata": {},
   "outputs": [],
   "source": [
    "# !python -m spacy download en_core_web_md"
   ]
  },
  {
   "cell_type": "code",
   "execution_count": 40,
   "metadata": {},
   "outputs": [],
   "source": [
    "import fitz\n",
    "from tqdm.auto import tqdm\n",
    "import pandas as pd\n",
    "from spacy.lang.en import English\n",
    "import spacy\n",
    "from sentence_transformers import SentenceTransformer\n",
    "import re\n",
    "from transformers import AutoModel, AutoTokenizer"
   ]
  },
  {
   "cell_type": "code",
   "execution_count": 41,
   "metadata": {},
   "outputs": [
    {
     "name": "stdout",
     "output_type": "stream",
     "text": [
      "Document('msme-features.pdf')\n"
     ]
    }
   ],
   "source": [
    "pdf_path = \"msme-features.pdf\" \n",
    "doc = fitz.open(pdf_path)\n",
    "print(doc)"
   ]
  },
  {
   "cell_type": "code",
   "execution_count": 42,
   "metadata": {},
   "outputs": [],
   "source": [
    "# nlp = spacy.load(\"en_core_web_md\")\n",
    "# for page_index in range(len(doc)):\n",
    "#     page = doc[page_index]\n",
    "#     tables = page.get_tables()\n",
    "#     for table in tables:\n",
    "#         for row in table:\n",
    "#             doc = nlp(\" \".join(row))\n",
    "#             for token in doc:\n",
    "#                 print(token.text, token.pos_, token.dep_)"
   ]
  },
  {
   "cell_type": "code",
   "execution_count": 43,
   "metadata": {},
   "outputs": [
    {
     "data": {
      "application/vnd.jupyter.widget-view+json": {
       "model_id": "48354a2e31454918ad8f4b000f94a96e",
       "version_major": 2,
       "version_minor": 0
      },
      "text/plain": [
       "0it [00:00, ?it/s]"
      ]
     },
     "metadata": {},
     "output_type": "display_data"
    },
    {
     "data": {
      "text/plain": [
       "[{'page_number': 0,\n",
       "  'page_char_count': 2722,\n",
       "  'page_word_count': 458,\n",
       "  'page_sentence_count': 21,\n",
       "  'page_token_count': 539,\n",
       "  'text': 'TallyHelp shows Search results that are relevant to your location, which is India.\\nClick here to explore the articles for all countries.\\nHome \\x00 TallyPrime \\x00 Accounting \\x00 MSME in TallyPrime\\nKeyboard Shortcuts\\nIn this topic we will learn about the challenges faced by the MSME businesses due to the lack of\\nvisibility of their MSME status. We will also look into\\xa0the provisions made by the Government to\\nsupport such businesses and how the use of TallyPrime will improve the visibility in their business\\ntransactions and accelerate the movement of funds.\\nMicro and small businesses registered under the MSMED Act,\\xa02006, get benefits such as loans at a\\nlower interest, payment guarantees from buyers, and so on. The payment guarantee provision\\nprotects these businesses from delays in payment from their buyers. As per this act, any buyer of\\ngoods or services from registered MSMEs must make the payment on or before the agreed date or\\nwithin 45 days. In case of a delay in payment beyond the specified date, buyers must pay interest\\non the amount. Generally in such cases, the interest rate is three times more than the rate that is\\nnotified by the Reserve Bank of India.\\nAdditionally, the Ministry of Corporate Affairs (MCA) has notified that companies having\\noutstanding dues to the MSME (Micro & Small) enterprises have to file the details of all the current\\noutstanding dues to MSMEs in MSME Form-1 with the ROC (Registrar of Companies).\\nDespite all these facilities, the micro and small businesses are not fully benefitting from the\\nprovisions in the MSMED Act. This is primarily due to the absence of an identification for MSME\\nSuppliers, which allows the buyers to omit/miss the MSME status of the supplier in their annual\\nstatement of accounts. As a result, the auditors do not detect such omissions because of the non-\\navailability of any identification for MSME status.\\nThe MSMEs should mention/print their MSME status on their invoices, bills and other relevant\\ndocuments. The visibility provided to buyers and their accountants will help in the release of the\\npayments on time and it will be also easy to file for compensation in case of delay in payments.\\nTallyPrime with its MSME feature will play this role of increasing the visibility of MSME status.\\xa0\\nMSME Enterprises will be able to update their UDYAM Registration details and print the same\\nin business documents. Click here to know more on how to update MSME Registration of your\\ncompany in TallyPrime.\\nBuyers from MSME can update UDYAM Registration details in ledgers and filter bill payables\\nfor MSMEs to ensure timely payment. They can also readily get details for MSME Form 1 for\\nIdentify, Track, Pay, and Report\\nPayments to MSME Businesses\\n\\x00 Login\\n\\x00'},\n",
       " {'page_number': 1,\n",
       "  'page_char_count': 850,\n",
       "  'page_word_count': 150,\n",
       "  'page_sentence_count': 9,\n",
       "  'page_token_count': 189,\n",
       "  'text': 'all overdues to MSME suppliers.\\nWatch on\\nHow to Update UDYAM Registration Details and View P\\nHow to Update UDYAM Registration Details and View P…\\nWatch later\\nWatch later\\nShare\\nShare\\nBuyers Update MSME Party’s UDYAM Details in\\nLedgers\\nThe businesses purchasing goods and services from MSMEs can set up the status of the supplier\\nas MSME. This sets reminders to make payments on time to all such parties and avoid paying\\ninterest for late payments. This also enables you to create and file returns quickly with all the\\ndetails of payments to MSMEs.\\nSet/Update MSME UDYAM details for a Single Party\\nYou can update the UDYAM details of MSME suppliers in the ledger master.\\n1. Press Alt+G (Go To) > Create Master or Alter Master > Ledger.\\n2. Enter basic party details like Name, Group, Address, if you are creating a new ledger.\\n3. Press F12 (Configure).\\n'}]"
      ]
     },
     "execution_count": 43,
     "metadata": {},
     "output_type": "execute_result"
    }
   ],
   "source": [
    "def open_and_read_pdf(pdf: str) -> list[dict]:\n",
    "    doc = fitz.open(pdf)\n",
    "    pages_and_text = []\n",
    "    nlp = spacy.load(\"en_core_web_md\")\n",
    "    for page_number, page in tqdm(enumerate(doc)):\n",
    "        text = page.get_text()  # get plain text encoded as UTF-8\n",
    "        doc = nlp(text)  # Process text with spaCy\n",
    "\n",
    "        word_count = len([token for token in doc if not token.is_space and not token.is_punct])\n",
    "        sentence_count = len(list(doc.sents)) \n",
    "        token_count = len(list(doc))\n",
    "        \n",
    "        pages_and_text.append({\n",
    "            \"page_number\": page_number, \n",
    "            \"page_char_count\": len(text),\n",
    "            \"page_word_count\": word_count,\n",
    "            \"page_sentence_count\": sentence_count,\n",
    "            \"page_token_count\": token_count, \n",
    "            \"text\": text\n",
    "        })\n",
    "    return pages_and_text\n",
    "pages = open_and_read_pdf(pdf = pdf_path)\n",
    "pages[0:2]"
   ]
  },
  {
   "cell_type": "code",
   "execution_count": 44,
   "metadata": {},
   "outputs": [
    {
     "data": {
      "application/vnd.jupyter.widget-view+json": {
       "model_id": "0797e5f2f6754a54ada1fcd4b29137cf",
       "version_major": 2,
       "version_minor": 0
      },
      "text/plain": [
       "  0%|          | 0/11 [00:00<?, ?it/s]"
      ]
     },
     "metadata": {},
     "output_type": "display_data"
    },
    {
     "name": "stdout",
     "output_type": "stream",
     "text": [
      "{'page_number': 10, 'page_char_count': 1586, 'page_word_count': 302, 'page_sentence_count': 18, 'page_token_count': 372, 'text': 'Show PAN/IT No.: Enable this option to display the PAN/IT number of the MSME party.\\nShow UDYAM Reg No.: Enable this option to display the UDYAM number of the party, this is enabled\\nby default.\\nShow Due on: Enable this option to display the Due on of each bill. This is set to Yes by default.\\nBased on Credit Days provided in: Under this you can select the option to arrive at Due On date, The\\noptions provided are:\\nBill-wise Details (as per invoice)– Due on date is arrived based on credit days specified in\\nbill-wise details of the invoice.\\nMSME Credit Period (from Company features, as per agreement) – Due on date is arrived\\nbased on msme credit days set for the party.\\nBill-wise or MSME Credit Period (whichever is earlier) – Due on date is arrived based on\\nearliest credit days set in bill-wise and in msme credit days.\\nShow Cleared On: Enable this option to see the date on which the bill was paid off.\\nShow Credit Days: Enable this option to see the credit days set for the MSME party\\nShow no. of days till Due Date: Set this option to Yes to view number of days until due date for each\\nbill in Days till Due Date column.\\nShow Overdue Days/Bill age in Days: Set this option to Yes to view the number of overview days in\\nOverdue by Days column.\\nShow Overdue days from Bill Date: Set this option to Yes to view the number of days since the day\\nof billing in the Age of Bill in Days column.\\n\\xa0\\nRelated Topics\\nHow to Create a Company in TallyPrime\\nMSME FAQs\\nTrack GST Return Activities\\nList of Banks Supported by TallyPrime for…\\nHow to Record Advance Payments Under GST in TallyPrime\\n', 'sentences': ['Show PAN/IT No.:', 'Enable this option to display the PAN/IT number of the MSME party.', '\\nShow UDYAM Reg No.:', 'Enable this option to display the UDYAM number of the party, this is enabled\\nby default.', '\\nShow Due on: Enable this option to display the Due on of each bill.', 'This is set to Yes by default.', '\\nBased on Credit Days provided in: Under this you can select the option to arrive at Due On date, The\\noptions provided are:\\nBill-wise Details (as per invoice)– Due on date is arrived based on credit days specified in\\nbill-wise details of the invoice.', '\\nMSME Credit Period (from Company features, as per agreement) – Due on date is arrived\\nbased on msme credit days set for the party.', '\\nBill-wise or MSME Credit Period (whichever is earlier) – Due on date is arrived based on\\nearliest credit days set in bill-wise and in msme credit days.', '\\nShow Cleared On: Enable this option to see the date on which the bill was paid off.', '\\nShow Credit Days: Enable this option to see the credit days set for the MSME party\\nShow no.', 'of days till Due Date: Set this option to Yes to view number of days until due date for each\\nbill in Days till Due Date column.', '\\nShow Overdue Days/Bill age in Days: Set this option to Yes to view the number of overview days in\\nOverdue by Days column.', '\\nShow Overdue days from Bill Date: Set this option to Yes to view the number of days since the day\\nof billing in the Age of Bill in Days column.', '\\n\\xa0\\nRelated Topics\\nHow to Create a Company in TallyPrime\\nMSME FAQs\\nTrack GST Return Activities\\nList of Banks Supported by TallyPrime for…\\nHow to Record Advance Payments Under GST in TallyPrime\\n'], 'page_sentence_count_spacy': 15}\n"
     ]
    }
   ],
   "source": [
    "nlp = English()\n",
    "nlp.add_pipe(\"sentencizer\")\n",
    "for item in tqdm(pages):\n",
    "    item[\"sentences\"] = list(nlp(item[\"text\"]).sents)\n",
    "    item[\"sentences\"] = [str(sentence) for sentence in item[\"sentences\"]]\n",
    "    item[\"page_sentence_count_spacy\"] = len(item[\"sentences\"])\n",
    "print(item)"
   ]
  },
  {
   "cell_type": "code",
   "execution_count": 45,
   "metadata": {},
   "outputs": [
    {
     "data": {
      "application/vnd.jupyter.widget-view+json": {
       "model_id": "32a6fa8a66a644ebb8e46bcbeade4899",
       "version_major": 2,
       "version_minor": 0
      },
      "text/plain": [
       "  0%|          | 0/11 [00:00<?, ?it/s]"
      ]
     },
     "metadata": {},
     "output_type": "display_data"
    }
   ],
   "source": [
    "num_sentence_chunk_size = 3\n",
    "def split_list(input_list: list, slice_size: int) -> list[list[str]]:\n",
    "    return [input_list[i:i + slice_size] for i in range(0, len(input_list), slice_size)]\n",
    "\n",
    "for item in tqdm(pages):\n",
    "    item[\"sentence_chunks\"] = split_list(input_list=item[\"sentences\"], slice_size=num_sentence_chunk_size)\n",
    "    item[\"num_chunks\"] = len(item[\"sentence_chunks\"])"
   ]
  },
  {
   "cell_type": "code",
   "execution_count": 46,
   "metadata": {},
   "outputs": [],
   "source": [
    "# Sample an example from the group (note: many samples have only 1 chunk as they have <=10 sentences total)\n",
    "# random.sample(pages, k=1)"
   ]
  },
  {
   "cell_type": "code",
   "execution_count": 47,
   "metadata": {},
   "outputs": [
    {
     "data": {
      "application/vnd.jupyter.widget-view+json": {
       "model_id": "c8f72f7f7127480dad2ac09331ea32fc",
       "version_major": 2,
       "version_minor": 0
      },
      "text/plain": [
       "  0%|          | 0/11 [00:00<?, ?it/s]"
      ]
     },
     "metadata": {},
     "output_type": "display_data"
    },
    {
     "data": {
      "text/plain": [
       "56"
      ]
     },
     "execution_count": 47,
     "metadata": {},
     "output_type": "execute_result"
    }
   ],
   "source": [
    "pages_and_chunks = []\n",
    "for item in tqdm(pages):\n",
    "    for sentence_chunk in item[\"sentence_chunks\"]:\n",
    "        chunk_dict = {}\n",
    "        chunk_dict[\"page_number\"] = item[\"page_number\"]\n",
    "        \n",
    "        joined_sentence_chunk = \"\".join(sentence_chunk).replace(\"  \", \" \").strip()\n",
    "        joined_sentence_chunk = re.sub(r'\\.([A-Z])', r'. \\1', joined_sentence_chunk) \n",
    "        chunk_dict[\"sentence_chunk\"] = joined_sentence_chunk\n",
    "        chunk_dict[\"chunk_char_count\"] = len(joined_sentence_chunk)\n",
    "        chunk_dict[\"chunk_word_count\"] = len([word for word in joined_sentence_chunk.split(\" \")])\n",
    "        chunk_dict[\"chunk_token_count\"] = len(joined_sentence_chunk) / 4 \n",
    "        \n",
    "        pages_and_chunks.append(chunk_dict)\n",
    "len(pages_and_chunks)"
   ]
  },
  {
   "cell_type": "code",
   "execution_count": 48,
   "metadata": {},
   "outputs": [],
   "source": [
    "# random.sample(pages_and_chunks, k=1)"
   ]
  },
  {
   "cell_type": "code",
   "execution_count": 49,
   "metadata": {},
   "outputs": [],
   "source": [
    "df = pd.DataFrame(pages_and_chunks)\n",
    "# df.describe().round(2)"
   ]
  },
  {
   "cell_type": "code",
   "execution_count": 50,
   "metadata": {},
   "outputs": [
    {
     "name": "stdout",
     "output_type": "stream",
     "text": [
      "Chunk token count: 25.5 | Text: Show PAN/IT No.:Enable this option to display the PAN/IT number of the MSME party.\n",
      "Show UDYAM Reg No.:\n",
      "Chunk token count: 0.0 | Text: \n"
     ]
    }
   ],
   "source": [
    "min_token_length = 30\n",
    "for row in df[df[\"chunk_token_count\"] <= min_token_length].sample(2).iterrows():\n",
    "    print(f'Chunk token count: {row[1][\"chunk_token_count\"]} | Text: {row[1][\"sentence_chunk\"]}')"
   ]
  },
  {
   "cell_type": "code",
   "execution_count": 51,
   "metadata": {},
   "outputs": [],
   "source": [
    "pages_and_chunks_over_min_token_len = df[df[\"chunk_token_count\"] > min_token_length].to_dict(orient=\"records\")\n",
    "# pages_and_chunks_over_min_token_len[:2]"
   ]
  },
  {
   "cell_type": "code",
   "execution_count": 52,
   "metadata": {},
   "outputs": [],
   "source": [
    "embedding_model = SentenceTransformer(model_name_or_path=\"Alibaba-NLP/gte-base-en-v1.5\", trust_remote_code = True, device=\"cpu\")"
   ]
  },
  {
   "cell_type": "code",
   "execution_count": 53,
   "metadata": {},
   "outputs": [],
   "source": [
    "# model_path = 'Alibaba-NLP/gte-large-en-v1.5'\n",
    "# tokenizer = AutoTokenizer.from_pretrained(model_path)\n",
    "# embedding_model = AutoModel.from_pretrained(model_path, trust_remote_code=True)"
   ]
  },
  {
   "cell_type": "markdown",
   "metadata": {},
   "source": [
    "### CPU Based embedding creation"
   ]
  },
  {
   "cell_type": "code",
   "execution_count": 54,
   "metadata": {},
   "outputs": [
    {
     "data": {
      "application/vnd.jupyter.widget-view+json": {
       "model_id": "71fb662e1c8640cb96c011aa460c5e89",
       "version_major": 2,
       "version_minor": 0
      },
      "text/plain": [
       "  0%|          | 0/36 [00:00<?, ?it/s]"
      ]
     },
     "metadata": {},
     "output_type": "display_data"
    },
    {
     "name": "stdout",
     "output_type": "stream",
     "text": [
      "CPU times: total: 19.5 s\n",
      "Wall time: 7.85 s\n"
     ]
    }
   ],
   "source": [
    "%%time\n",
    "embedding_model.to(\"cpu\")\n",
    "\n",
    "# Embed each chunk one by one\n",
    "for item in tqdm(pages_and_chunks_over_min_token_len):\n",
    "    item[\"embedding\"] = embedding_model.encode(item[\"sentence_chunk\"])"
   ]
  },
  {
   "cell_type": "markdown",
   "metadata": {},
   "source": [
    "### For GPU Run Below "
   ]
  },
  {
   "cell_type": "code",
   "execution_count": 55,
   "metadata": {},
   "outputs": [],
   "source": [
    "# %%time\n",
    "\n",
    "# # Send the model to the GPU\n",
    "# embedding_model.to(\"cuda\") # requires a GPU installed, for reference on my local machine, I'm using a NVIDIA RTX 4090\n",
    "\n",
    "# # Create embeddings one by one on the GPU\n",
    "# for item in tqdm(pages_and_chunks_over_min_token_len):\n",
    "#     item[\"embedding\"] = embedding_model.encode(item[\"sentence_chunk\"])"
   ]
  },
  {
   "cell_type": "code",
   "execution_count": 56,
   "metadata": {},
   "outputs": [],
   "source": [
    "# Turn text chunks into a single list\n",
    "text_chunks = [item[\"sentence_chunk\"] for item in pages_and_chunks_over_min_token_len]"
   ]
  },
  {
   "cell_type": "markdown",
   "metadata": {},
   "source": [
    "### Batch embeddings for shorter times on CPU embeddings"
   ]
  },
  {
   "cell_type": "code",
   "execution_count": 57,
   "metadata": {},
   "outputs": [],
   "source": [
    "# %%time\n",
    "\n",
    "# Embed all texts in batches\n",
    "# text_chunk_embeddings = embedding_model.encode(text_chunks,\n",
    "#                                                batch_size=32, # Change batch size according to speed obtained\n",
    "#                                                convert_to_tensor=True) # optional to return embeddings as tensor instead of array\n",
    "\n",
    "# text_chunk_embeddings"
   ]
  },
  {
   "cell_type": "code",
   "execution_count": 58,
   "metadata": {},
   "outputs": [],
   "source": [
    "# Save embeddings to file\n",
    "text_chunks_and_embeddings_df = pd.DataFrame(pages_and_chunks_over_min_token_len)\n",
    "embeddings_df_save_path = \"../text_chunks_and_embeddings_df.csv\"\n",
    "text_chunks_and_embeddings_df.to_csv(embeddings_df_save_path, index=False)"
   ]
  },
  {
   "cell_type": "code",
   "execution_count": 59,
   "metadata": {},
   "outputs": [
    {
     "data": {
      "text/html": [
       "<div>\n",
       "<style scoped>\n",
       "    .dataframe tbody tr th:only-of-type {\n",
       "        vertical-align: middle;\n",
       "    }\n",
       "\n",
       "    .dataframe tbody tr th {\n",
       "        vertical-align: top;\n",
       "    }\n",
       "\n",
       "    .dataframe thead th {\n",
       "        text-align: right;\n",
       "    }\n",
       "</style>\n",
       "<table border=\"1\" class=\"dataframe\">\n",
       "  <thead>\n",
       "    <tr style=\"text-align: right;\">\n",
       "      <th></th>\n",
       "      <th>page_number</th>\n",
       "      <th>sentence_chunk</th>\n",
       "      <th>chunk_char_count</th>\n",
       "      <th>chunk_word_count</th>\n",
       "      <th>chunk_token_count</th>\n",
       "      <th>embedding</th>\n",
       "    </tr>\n",
       "  </thead>\n",
       "  <tbody>\n",
       "    <tr>\n",
       "      <th>0</th>\n",
       "      <td>0</td>\n",
       "      <td>TallyHelp shows Search results that are releva...</td>\n",
       "      <td>337</td>\n",
       "      <td>52</td>\n",
       "      <td>84.25</td>\n",
       "      <td>[-7.43505716e-01 -4.66394484e-01  6.55767620e-...</td>\n",
       "    </tr>\n",
       "    <tr>\n",
       "      <th>1</th>\n",
       "      <td>0</td>\n",
       "      <td>We will also look into the provisions made by ...</td>\n",
       "      <td>470</td>\n",
       "      <td>68</td>\n",
       "      <td>117.50</td>\n",
       "      <td>[-2.14783937e-01 -5.26265800e-01  1.60889161e+...</td>\n",
       "    </tr>\n",
       "    <tr>\n",
       "      <th>2</th>\n",
       "      <td>0</td>\n",
       "      <td>As per this act, any buyer of\\ngoods or servic...</td>\n",
       "      <td>360</td>\n",
       "      <td>64</td>\n",
       "      <td>90.00</td>\n",
       "      <td>[ 3.87885153e-01 -3.77041906e-01 -2.23355308e-...</td>\n",
       "    </tr>\n",
       "    <tr>\n",
       "      <th>3</th>\n",
       "      <td>0</td>\n",
       "      <td>Additionally, the Ministry of Corporate Affair...</td>\n",
       "      <td>580</td>\n",
       "      <td>88</td>\n",
       "      <td>145.00</td>\n",
       "      <td>[-1.19639993e-01 -2.50907034e-01  9.96267200e-...</td>\n",
       "    </tr>\n",
       "    <tr>\n",
       "      <th>4</th>\n",
       "      <td>0</td>\n",
       "      <td>As a result, the auditors do not detect such o...</td>\n",
       "      <td>415</td>\n",
       "      <td>66</td>\n",
       "      <td>103.75</td>\n",
       "      <td>[-5.76742351e-01 -1.85536414e-01  1.31263995e+...</td>\n",
       "    </tr>\n",
       "  </tbody>\n",
       "</table>\n",
       "</div>"
      ],
      "text/plain": [
       "   page_number                                     sentence_chunk  \\\n",
       "0            0  TallyHelp shows Search results that are releva...   \n",
       "1            0  We will also look into the provisions made by ...   \n",
       "2            0  As per this act, any buyer of\\ngoods or servic...   \n",
       "3            0  Additionally, the Ministry of Corporate Affair...   \n",
       "4            0  As a result, the auditors do not detect such o...   \n",
       "\n",
       "   chunk_char_count  chunk_word_count  chunk_token_count  \\\n",
       "0               337                52              84.25   \n",
       "1               470                68             117.50   \n",
       "2               360                64              90.00   \n",
       "3               580                88             145.00   \n",
       "4               415                66             103.75   \n",
       "\n",
       "                                           embedding  \n",
       "0  [-7.43505716e-01 -4.66394484e-01  6.55767620e-...  \n",
       "1  [-2.14783937e-01 -5.26265800e-01  1.60889161e+...  \n",
       "2  [ 3.87885153e-01 -3.77041906e-01 -2.23355308e-...  \n",
       "3  [-1.19639993e-01 -2.50907034e-01  9.96267200e-...  \n",
       "4  [-5.76742351e-01 -1.85536414e-01  1.31263995e+...  "
      ]
     },
     "execution_count": 59,
     "metadata": {},
     "output_type": "execute_result"
    }
   ],
   "source": [
    "# Import saved file and view\n",
    "text_chunks_and_embedding_df_load = pd.read_csv(embeddings_df_save_path)\n",
    "text_chunks_and_embedding_df_load.head()"
   ]
  }
 ],
 "metadata": {
  "kernelspec": {
   "display_name": "Python 3",
   "language": "python",
   "name": "python3"
  },
  "language_info": {
   "codemirror_mode": {
    "name": "ipython",
    "version": 3
   },
   "file_extension": ".py",
   "mimetype": "text/x-python",
   "name": "python",
   "nbconvert_exporter": "python",
   "pygments_lexer": "ipython3",
   "version": "3.12.1"
  }
 },
 "nbformat": 4,
 "nbformat_minor": 2
}
