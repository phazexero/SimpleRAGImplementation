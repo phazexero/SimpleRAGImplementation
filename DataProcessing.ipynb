{
 "cells": [
  {
   "cell_type": "code",
   "execution_count": 1,
   "metadata": {},
   "outputs": [
    {
     "name": "stdout",
     "output_type": "stream",
     "text": [
      "File to be downloaded\n",
      "File human_nutrition_text.pdf has been downloaded and saved\n"
     ]
    }
   ],
   "source": [
    "import os\n",
    "import requests\n",
    "\n",
    "pdf_path = \"human_nutrition_text.pdf\"\n",
    "\n",
    "if not os.path.exists(pdf_path):\n",
    "  print(\"File to be downloaded\")\n",
    "  url = \"https://pressbooks.oer.hawaii.edu/humannutrition2/open/download?type=pdf\"\n",
    "  filename = pdf_path\n",
    "  response = requests.get(url)\n",
    "  if response.status_code == 200:\n",
    "    with open(filename, \"wb\") as file:\n",
    "      file.write(response.content)\n",
    "    print(f\"File {filename} has been downloaded and saved\")\n",
    "  else:\n",
    "    print(f\"File could not be downloaded. Status code: {response.status_code}\")\n",
    "else:\n",
    "  print(f\"File {pdf_path} already exists\")\n",
    "  "
   ]
  },
  {
   "cell_type": "code",
   "execution_count": 3,
   "metadata": {},
   "outputs": [
    {
     "name": "stderr",
     "output_type": "stream",
     "text": [
      "0it [00:00, ?it/s]\n"
     ]
    },
    {
     "data": {
      "text/plain": [
       "[{'page_number': -43,\n",
       "  'page_char_count': 29,\n",
       "  'page_word_count': 4,\n",
       "  'page_sentence_count': 1,\n",
       "  'page_token_count': 7.25,\n",
       "  'text': 'Human Nutrition: 2020 Edition'}]"
      ]
     },
     "execution_count": 3,
     "metadata": {},
     "output_type": "execute_result"
    }
   ],
   "source": [
    "import fitz\n",
    "from tqdm.auto import tqdm\n",
    "\n",
    "def text_formatter(text: str) -> str:\n",
    "  cleaned_text = text.replace(\"\\n\", \" \").strip()\n",
    "  return cleaned_text\n",
    "\n",
    "def read_pdf(pdf: str) -> list[dict]:\n",
    "  doc = fitz.open(pdf)\n",
    "  pages_and_text = []\n",
    "  for page_number, page in tqdm(enumerate(doc)):\n",
    "    text = page.get_text()\n",
    "    text = text_formatter(text=text)\n",
    "    pages_and_text.append({\"page_number\": page_number - 43,\n",
    "                            \"page_char_count\": len(text),\n",
    "                            \"page_word_count\": len(text.split(\" \")),\n",
    "                            \"page_sentence_count\": len(text.split(\". \")),\n",
    "                            \"page_token_count\": len(text)/4, # 1 token = 4 characters (assumption)\n",
    "                            \"text\": text}) \n",
    "    return pages_and_text\n",
    "\n",
    "pages = read_pdf(pdf = pdf)\n",
    "pages[:2]"
   ]
  }
 ],
 "metadata": {
  "kernelspec": {
   "display_name": "Python 3",
   "language": "python",
   "name": "python3"
  },
  "language_info": {
   "codemirror_mode": {
    "name": "ipython",
    "version": 3
   },
   "file_extension": ".py",
   "mimetype": "text/x-python",
   "name": "python",
   "nbconvert_exporter": "python",
   "pygments_lexer": "ipython3",
   "version": "3.12.1"
  }
 },
 "nbformat": 4,
 "nbformat_minor": 2
}
